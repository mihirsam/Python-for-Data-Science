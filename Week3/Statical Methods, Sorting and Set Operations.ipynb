{
 "cells": [
  {
   "cell_type": "markdown",
   "metadata": {},
   "source": [
    "## Statical Methods, Sorting and Set Operations:"
   ]
  },
  {
   "cell_type": "markdown",
   "metadata": {},
   "source": [
    "### Basic Stati9cal Operations:"
   ]
  },
  {
   "cell_type": "code",
   "execution_count": 1,
   "metadata": {},
   "outputs": [],
   "source": [
    "import numpy as  np"
   ]
  },
  {
   "cell_type": "code",
   "execution_count": 6,
   "metadata": {},
   "outputs": [
    {
     "name": "stdout",
     "output_type": "stream",
     "text": [
      "[[ 1.24321815 -0.41408485 -0.7882887  -0.00376841  0.24069934]\n",
      " [-0.07990776 -0.52659167 -0.38180515  0.34873752 -1.88025555]]\n"
     ]
    }
   ],
   "source": [
    "arr1 = np.random.randn(2,5)\n",
    "print(arr1)"
   ]
  },
  {
   "cell_type": "code",
   "execution_count": 7,
   "metadata": {},
   "outputs": [
    {
     "name": "stdout",
     "output_type": "stream",
     "text": [
      "-0.224204707274633\n"
     ]
    }
   ],
   "source": [
    "print(arr1.mean())"
   ]
  },
  {
   "cell_type": "code",
   "execution_count": 8,
   "metadata": {},
   "outputs": [
    {
     "name": "stdout",
     "output_type": "stream",
     "text": [
      "[ 0.05555511 -0.50396452]\n"
     ]
    }
   ],
   "source": [
    "# mean for each row\n",
    "print(arr1.mean(axis = 1))"
   ]
  },
  {
   "cell_type": "code",
   "execution_count": 9,
   "metadata": {},
   "outputs": [
    {
     "name": "stdout",
     "output_type": "stream",
     "text": [
      "[ 0.5816552  -0.47033826 -0.58504692  0.17248455 -0.8197781 ]\n"
     ]
    }
   ],
   "source": [
    "# mean for each column\n",
    "print(arr1.mean(axis=0))"
   ]
  },
  {
   "cell_type": "code",
   "execution_count": 10,
   "metadata": {},
   "outputs": [
    {
     "name": "stdout",
     "output_type": "stream",
     "text": [
      "-2.24204707274633\n"
     ]
    }
   ],
   "source": [
    "print(arr1.sum())"
   ]
  },
  {
   "cell_type": "code",
   "execution_count": 11,
   "metadata": {},
   "outputs": [
    {
     "name": "stdout",
     "output_type": "stream",
     "text": [
      "[-0.00376841 -0.38180515]\n"
     ]
    }
   ],
   "source": [
    "print(np.median(arr1, axis =1))"
   ]
  },
  {
   "cell_type": "code",
   "execution_count": 27,
   "metadata": {},
   "outputs": [
    {
     "name": "stdout",
     "output_type": "stream",
     "text": [
      "[ 0.36871825  1.64682479 -1.39787156  0.75261042 -0.16082323  0.76157186\n",
      " -1.45046966 -0.44181501  1.02597872  0.75380859]\n",
      "<class 'numpy.ndarray'>\n"
     ]
    }
   ],
   "source": [
    "arr2 =  np.random.randn(10)\n",
    "print(arr2)\n",
    "print(type(arr2))"
   ]
  },
  {
   "cell_type": "code",
   "execution_count": 28,
   "metadata": {},
   "outputs": [
    {
     "name": "stdout",
     "output_type": "stream",
     "text": [
      "[ True  True  True  True  True  True  True  True  True  True]\n",
      "[ 0.36871825  1.64682479 -1.39787156  0.75261042 -0.16082323  0.76157186\n",
      " -1.45046966 -0.44181501  1.02597872  0.75380859]\n",
      "[ 0.36871825  1.64682479 -1.39787156  0.75261042 -0.16082323  0.76157186\n",
      " -1.45046966 -0.44181501  1.02597872  0.75380859]\n"
     ]
    }
   ],
   "source": [
    "copy_arr2 = arr2.copy()\n",
    "print(copy_arr2 == arr2)\n",
    "print(arr2)\n",
    "print(copy_arr2)"
   ]
  },
  {
   "cell_type": "code",
   "execution_count": 30,
   "metadata": {},
   "outputs": [
    {
     "name": "stdout",
     "output_type": "stream",
     "text": [
      "[-1.45046966 -1.39787156 -0.44181501 -0.16082323  0.36871825  0.75261042\n",
      "  0.75380859  0.76157186  1.02597872  1.64682479]\n",
      "[ 0.36871825  1.64682479 -1.39787156  0.75261042 -0.16082323  0.76157186\n",
      " -1.45046966 -0.44181501  1.02597872  0.75380859]\n"
     ]
    }
   ],
   "source": [
    "copy_arr2.sort()\n",
    "print(copy_arr2)\n",
    "print(arr2)"
   ]
  },
  {
   "cell_type": "code",
   "execution_count": 35,
   "metadata": {},
   "outputs": [
    {
     "name": "stdout",
     "output_type": "stream",
     "text": [
      "[-415.25587443 -381.21524651 -381.11056425 ...  417.03926644  428.43735391\n",
      "  502.82716326]\n"
     ]
    }
   ],
   "source": [
    "arr3 = 100 * np.random.randn(100000)\n",
    "print(np.unique(arr3))"
   ]
  },
  {
   "cell_type": "markdown",
   "metadata": {},
   "source": [
    "## Set Operations"
   ]
  },
  {
   "cell_type": "code",
   "execution_count": 37,
   "metadata": {},
   "outputs": [
    {
     "name": "stdout",
     "output_type": "stream",
     "text": [
      "['desk' 'chair' 'pen'] ['pen' 'chair' 'else']\n"
     ]
    }
   ],
   "source": [
    "s1 = np.array(['desk', 'chair', 'pen'])\n",
    "s2 = np.array(['pen',  'chair', 'else'])\n",
    "print(s1, s2)"
   ]
  },
  {
   "cell_type": "code",
   "execution_count": 38,
   "metadata": {},
   "outputs": [
    {
     "name": "stdout",
     "output_type": "stream",
     "text": [
      "['chair' 'pen']\n"
     ]
    }
   ],
   "source": [
    "print(np.intersect1d(s1, s2))"
   ]
  },
  {
   "cell_type": "code",
   "execution_count": 40,
   "metadata": {},
   "outputs": [
    {
     "name": "stdout",
     "output_type": "stream",
     "text": [
      "['chair' 'desk' 'else' 'pen']\n"
     ]
    }
   ],
   "source": [
    "print(np.union1d(s1, s2))"
   ]
  },
  {
   "cell_type": "code",
   "execution_count": 42,
   "metadata": {},
   "outputs": [
    {
     "name": "stdout",
     "output_type": "stream",
     "text": [
      "['desk']\n"
     ]
    }
   ],
   "source": [
    "print(np.setdiff1d(s1, s2)) #elements of s1 that are not in s2"
   ]
  },
  {
   "cell_type": "code",
   "execution_count": 43,
   "metadata": {},
   "outputs": [
    {
     "name": "stdout",
     "output_type": "stream",
     "text": [
      "[False  True  True]\n"
     ]
    }
   ],
   "source": [
    "print(np.in1d(s1, s2))"
   ]
  },
  {
   "cell_type": "code",
   "execution_count": null,
   "metadata": {},
   "outputs": [],
   "source": []
  }
 ],
 "metadata": {
  "kernelspec": {
   "display_name": "Python 3",
   "language": "python",
   "name": "python3"
  },
  "language_info": {
   "codemirror_mode": {
    "name": "ipython",
    "version": 3
   },
   "file_extension": ".py",
   "mimetype": "text/x-python",
   "name": "python",
   "nbconvert_exporter": "python",
   "pygments_lexer": "ipython3",
   "version": "3.6.5"
  }
 },
 "nbformat": 4,
 "nbformat_minor": 2
}
