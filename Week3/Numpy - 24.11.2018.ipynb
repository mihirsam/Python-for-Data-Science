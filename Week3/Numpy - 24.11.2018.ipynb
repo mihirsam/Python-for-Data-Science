{
 "cells": [
  {
   "cell_type": "code",
   "execution_count": 1,
   "metadata": {},
   "outputs": [],
   "source": [
    "import numpy as np"
   ]
  },
  {
   "cell_type": "code",
   "execution_count": 4,
   "metadata": {},
   "outputs": [
    {
     "data": {
      "text/plain": [
       "numpy.ndarray"
      ]
     },
     "execution_count": 4,
     "metadata": {},
     "output_type": "execute_result"
    }
   ],
   "source": [
    "# 1d  array\n",
    "arrayOne = np.array([1, 2, 3])\n",
    "type(arrayOne)"
   ]
  },
  {
   "cell_type": "code",
   "execution_count": 9,
   "metadata": {},
   "outputs": [
    {
     "name": "stdout",
     "output_type": "stream",
     "text": [
      "(2, 3)\n"
     ]
    },
    {
     "data": {
      "text/plain": [
       "array([[1, 2, 3],\n",
       "       [4, 5, 6]])"
      ]
     },
     "execution_count": 9,
     "metadata": {},
     "output_type": "execute_result"
    }
   ],
   "source": [
    "# 2d array\n",
    "arrayTwo = np.array([[1, 2, 3], [4, 5, 6]])\n",
    "print(arrayTwo.shape)\n",
    "arrayTwo"
   ]
  },
  {
   "cell_type": "code",
   "execution_count": 10,
   "metadata": {},
   "outputs": [
    {
     "data": {
      "text/plain": [
       "3"
      ]
     },
     "execution_count": 10,
     "metadata": {},
     "output_type": "execute_result"
    }
   ],
   "source": [
    "# accessing array\n",
    "arrayTwo[0][2]"
   ]
  },
  {
   "cell_type": "code",
   "execution_count": 18,
   "metadata": {},
   "outputs": [
    {
     "data": {
      "text/plain": [
       "array([[0., 0., 0.],\n",
       "       [0., 0., 0.],\n",
       "       [0., 0., 0.]])"
      ]
     },
     "execution_count": 18,
     "metadata": {},
     "output_type": "execute_result"
    }
   ],
   "source": [
    "zeroArray = np.zeros([3, 3])\n",
    "zeroArray"
   ]
  },
  {
   "cell_type": "code",
   "execution_count": 16,
   "metadata": {},
   "outputs": [
    {
     "data": {
      "text/plain": [
       "array([[1., 0., 0., 0., 0.],\n",
       "       [0., 1., 0., 0., 0.],\n",
       "       [0., 0., 1., 0., 0.],\n",
       "       [0., 0., 0., 1., 0.],\n",
       "       [0., 0., 0., 0., 1.]])"
      ]
     },
     "execution_count": 16,
     "metadata": {},
     "output_type": "execute_result"
    }
   ],
   "source": [
    "eyeArray = np.eye(5, 5)\n",
    "eyeArray"
   ]
  },
  {
   "cell_type": "code",
   "execution_count": 21,
   "metadata": {},
   "outputs": [
    {
     "data": {
      "text/plain": [
       "array([[1., 1., 1.],\n",
       "       [1., 1., 1.],\n",
       "       [1., 1., 1.]])"
      ]
     },
     "execution_count": 21,
     "metadata": {},
     "output_type": "execute_result"
    }
   ],
   "source": [
    "oneArray = np.ones([3, 3])\n",
    "oneArray"
   ]
  },
  {
   "cell_type": "code",
   "execution_count": 28,
   "metadata": {},
   "outputs": [
    {
     "data": {
      "text/plain": [
       "array([[[0.28090661, 0.04135318, 0.17370717],\n",
       "        [0.96098457, 0.48725679, 0.18686195],\n",
       "        [0.75907205, 0.7058501 , 0.07933365]],\n",
       "\n",
       "       [[0.38790133, 0.07832875, 0.14693322],\n",
       "        [0.9085482 , 0.06147083, 0.72220291],\n",
       "        [0.20265998, 0.99705631, 0.77759539]],\n",
       "\n",
       "       [[0.90430636, 0.90863939, 0.55394962],\n",
       "        [0.67381303, 0.39389736, 0.66611331],\n",
       "        [0.02904498, 0.54043377, 0.56358259]]])"
      ]
     },
     "execution_count": 28,
     "metadata": {},
     "output_type": "execute_result"
    }
   ],
   "source": [
    "randArray = np.random.random([3, 3, 3])\n",
    "randArray"
   ]
  },
  {
   "cell_type": "code",
   "execution_count": 46,
   "metadata": {},
   "outputs": [
    {
     "data": {
      "text/plain": [
       "array([[[0.04135318, 0.17370717],\n",
       "        [0.48725679, 0.18686195]],\n",
       "\n",
       "       [[0.07832875, 0.14693322],\n",
       "        [0.06147083, 0.72220291]]])"
      ]
     },
     "execution_count": 46,
     "metadata": {},
     "output_type": "execute_result"
    }
   ],
   "source": [
    "# slicing & indexing \n",
    "copyRandArray = randArray[:2 , 0:2, 1:].copy()\n",
    "randArray[:2 , 0:2, 1:]"
   ]
  },
  {
   "cell_type": "code",
   "execution_count": 48,
   "metadata": {},
   "outputs": [
    {
     "name": "stdout",
     "output_type": "stream",
     "text": [
      "[[0.04135318 0.17370717]\n",
      " [0.48725679 0.18686195]]\n",
      "[[0.07832875 0.14693322]\n",
      " [0.06147083 0.72220291]]\n"
     ]
    }
   ],
   "source": [
    "for i in copyRandArray:\n",
    "    print (i)"
   ]
  },
  {
   "cell_type": "code",
   "execution_count": 52,
   "metadata": {},
   "outputs": [
    {
     "name": "stdout",
     "output_type": "stream",
     "text": [
      "<class 'map'>\n",
      "3\n",
      "None\n",
      "5\n",
      "None\n",
      "7\n",
      "None\n",
      "9\n",
      "None\n",
      "11\n",
      "None\n"
     ]
    }
   ],
   "source": [
    "def addition(x, y):\n",
    "    print(x+y)\n",
    "    \n",
    "listOne = [1, 2, 3, 4, 5]\n",
    "listTwo = [2, 3, 4, 5, 6]\n",
    "\n",
    "result = map(addition, listOne, listTwo)\n",
    "\n",
    "print(type(result))\n",
    "for i in result:\n",
    "    print(i)"
   ]
  },
  {
   "cell_type": "code",
   "execution_count": null,
   "metadata": {},
   "outputs": [],
   "source": []
  }
 ],
 "metadata": {
  "kernelspec": {
   "display_name": "Python 3",
   "language": "python",
   "name": "python3"
  },
  "language_info": {
   "codemirror_mode": {
    "name": "ipython",
    "version": 3
   },
   "file_extension": ".py",
   "mimetype": "text/x-python",
   "name": "python",
   "nbconvert_exporter": "python",
   "pygments_lexer": "ipython3",
   "version": "3.6.7"
  }
 },
 "nbformat": 4,
 "nbformat_minor": 2
}
