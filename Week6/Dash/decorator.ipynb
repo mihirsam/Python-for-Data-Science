{
 "cells": [
  {
   "cell_type": "code",
   "execution_count": 2,
   "metadata": {},
   "outputs": [
    {
     "name": "stdout",
     "output_type": "stream",
     "text": [
      "A wrapped up box of a new tesla P100\n"
     ]
    }
   ],
   "source": [
    "from functools import wraps\n",
    "\n",
    "def add_wrapping(item):\n",
    "    def wrapped_item():\n",
    "        return \"A wrapped up box of {}\" .format(str(item()))\n",
    "    \n",
    "    return wrapped_item\n",
    "\n",
    "@add_wrapping\n",
    "\n",
    "def gpu():\n",
    "    return \"a new tesla P100\"\n",
    "\n",
    "print(gpu())\n",
    "print(gpu.__name__)"
   ]
  },
  {
   "cell_type": "code",
   "execution_count": 10,
   "metadata": {},
   "outputs": [
    {
     "name": "stdout",
     "output_type": "stream",
     "text": [
      "[1 2 3 4]\n",
      "time it!\n",
      "10\n",
      "time it!\n",
      "24\n"
     ]
    },
    {
     "data": {
      "text/plain": [
       "24"
      ]
     },
     "execution_count": 10,
     "metadata": {},
     "output_type": "execute_result"
    }
   ],
   "source": [
    "import numpy as np\n",
    "def time_it(func):\n",
    "    def wrapper(*args, **kwargs):\n",
    "        result = func(*args, **kwargs)\n",
    "        print(\"time it!\")\n",
    "        print(result)\n",
    "        return result\n",
    "    return wrapper\n",
    "\n",
    "@time_it\n",
    "def addition(array):\n",
    "    res = 0\n",
    "    for i in array:\n",
    "        res += i\n",
    "    return res\n",
    "\n",
    "@time_it\n",
    "def multiply(array):\n",
    "    res = 1\n",
    "    for i in array:\n",
    "        res *= i\n",
    "    return res\n",
    "\n",
    "\n",
    "arr = np.arange(1, 5)\n",
    "print(arr)\n",
    "\n",
    "addition(arr)\n",
    "multiply(arr)"
   ]
  },
  {
   "cell_type": "code",
   "execution_count": null,
   "metadata": {},
   "outputs": [],
   "source": []
  }
 ],
 "metadata": {
  "kernelspec": {
   "display_name": "Python 3",
   "language": "python",
   "name": "python3"
  },
  "language_info": {
   "codemirror_mode": {
    "name": "ipython",
    "version": 3
   },
   "file_extension": ".py",
   "mimetype": "text/x-python",
   "name": "python",
   "nbconvert_exporter": "python",
   "pygments_lexer": "ipython3",
   "version": "3.6.7"
  }
 },
 "nbformat": 4,
 "nbformat_minor": 2
}
