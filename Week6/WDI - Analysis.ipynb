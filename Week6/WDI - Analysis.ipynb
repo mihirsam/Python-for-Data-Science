{
 "cells": [
  {
   "cell_type": "code",
   "execution_count": 1,
   "metadata": {},
   "outputs": [],
   "source": [
    "import matplotlib.pyplot as plt\n",
    "import numpy as np\n",
    "import pandas as pd\n",
    "from mpl_toolkits.mplot3d import axes3d\n",
    "\n",
    "%matplotlib notebook"
   ]
  },
  {
   "cell_type": "markdown",
   "metadata": {},
   "source": [
    "### Reading Data"
   ]
  },
  {
   "cell_type": "code",
   "execution_count": 8,
   "metadata": {},
   "outputs": [
    {
     "data": {
      "text/html": [
       "<div>\n",
       "<style scoped>\n",
       "    .dataframe tbody tr th:only-of-type {\n",
       "        vertical-align: middle;\n",
       "    }\n",
       "\n",
       "    .dataframe tbody tr th {\n",
       "        vertical-align: top;\n",
       "    }\n",
       "\n",
       "    .dataframe thead th {\n",
       "        text-align: right;\n",
       "    }\n",
       "</style>\n",
       "<table border=\"1\" class=\"dataframe\">\n",
       "  <thead>\n",
       "    <tr style=\"text-align: right;\">\n",
       "      <th></th>\n",
       "      <th>CountryName</th>\n",
       "      <th>CountryCode</th>\n",
       "      <th>IndicatorName</th>\n",
       "      <th>IndicatorCode</th>\n",
       "      <th>Year</th>\n",
       "      <th>Value</th>\n",
       "    </tr>\n",
       "  </thead>\n",
       "  <tbody>\n",
       "    <tr>\n",
       "      <th>0</th>\n",
       "      <td>Arab World</td>\n",
       "      <td>ARB</td>\n",
       "      <td>Adolescent fertility rate (births per 1,000 women ages 15-19)</td>\n",
       "      <td>SP.ADO.TFRT</td>\n",
       "      <td>1960</td>\n",
       "      <td>1.335609e+02</td>\n",
       "    </tr>\n",
       "    <tr>\n",
       "      <th>1</th>\n",
       "      <td>Arab World</td>\n",
       "      <td>ARB</td>\n",
       "      <td>Age dependency ratio (% of working-age population)</td>\n",
       "      <td>SP.POP.DPND</td>\n",
       "      <td>1960</td>\n",
       "      <td>8.779760e+01</td>\n",
       "    </tr>\n",
       "    <tr>\n",
       "      <th>2</th>\n",
       "      <td>Arab World</td>\n",
       "      <td>ARB</td>\n",
       "      <td>Age dependency ratio, old (% of working-age population)</td>\n",
       "      <td>SP.POP.DPND.OL</td>\n",
       "      <td>1960</td>\n",
       "      <td>6.634579e+00</td>\n",
       "    </tr>\n",
       "    <tr>\n",
       "      <th>3</th>\n",
       "      <td>Arab World</td>\n",
       "      <td>ARB</td>\n",
       "      <td>Age dependency ratio, young (% of working-age population)</td>\n",
       "      <td>SP.POP.DPND.YG</td>\n",
       "      <td>1960</td>\n",
       "      <td>8.102333e+01</td>\n",
       "    </tr>\n",
       "    <tr>\n",
       "      <th>4</th>\n",
       "      <td>Arab World</td>\n",
       "      <td>ARB</td>\n",
       "      <td>Arms exports (SIPRI trend indicator values)</td>\n",
       "      <td>MS.MIL.XPRT.KD</td>\n",
       "      <td>1960</td>\n",
       "      <td>3.000000e+06</td>\n",
       "    </tr>\n",
       "  </tbody>\n",
       "</table>\n",
       "</div>"
      ],
      "text/plain": [
       "  CountryName CountryCode                                                  IndicatorName   IndicatorCode  Year         Value\n",
       "0  Arab World         ARB  Adolescent fertility rate (births per 1,000 women ages 15-19)     SP.ADO.TFRT  1960  1.335609e+02\n",
       "1  Arab World         ARB             Age dependency ratio (% of working-age population)     SP.POP.DPND  1960  8.779760e+01\n",
       "2  Arab World         ARB        Age dependency ratio, old (% of working-age population)  SP.POP.DPND.OL  1960  6.634579e+00\n",
       "3  Arab World         ARB      Age dependency ratio, young (% of working-age population)  SP.POP.DPND.YG  1960  8.102333e+01\n",
       "4  Arab World         ARB                    Arms exports (SIPRI trend indicator values)  MS.MIL.XPRT.KD  1960  3.000000e+06"
      ]
     },
     "execution_count": 8,
     "metadata": {},
     "output_type": "execute_result"
    }
   ],
   "source": [
    "pd.set_option('max_colwidth', 800)\n",
    "data = pd.read_csv('./../Week5/WDI - Dataset/Indicators.csv', sep=',')\n",
    "data.head()"
   ]
  },
  {
   "cell_type": "code",
   "execution_count": 10,
   "metadata": {},
   "outputs": [
    {
     "name": "stdout",
     "output_type": "stream",
     "text": [
      "(5656458, 6)\n",
      "1960 2015\n",
      "(1344,)\n"
     ]
    }
   ],
   "source": [
    "# Getting Useful Information\n",
    "print(data.shape)\n",
    "print(data['Year'].min(), data['Year'].max())\n",
    "print(data['IndicatorName'].unique().shape)"
   ]
  },
  {
   "cell_type": "code",
   "execution_count": 26,
   "metadata": {},
   "outputs": [
    {
     "data": {
      "text/plain": [
       "12"
      ]
     },
     "execution_count": 26,
     "metadata": {},
     "output_type": "execute_result"
    }
   ],
   "source": [
    "len(data[data['CountryCode'].str.contains('IND') & data['IndicatorName'].str.contains('Hospital')].index)"
   ]
  },
  {
   "cell_type": "code",
   "execution_count": 30,
   "metadata": {},
   "outputs": [
    {
     "data": {
      "text/html": [
       "<div>\n",
       "<style scoped>\n",
       "    .dataframe tbody tr th:only-of-type {\n",
       "        vertical-align: middle;\n",
       "    }\n",
       "\n",
       "    .dataframe tbody tr th {\n",
       "        vertical-align: top;\n",
       "    }\n",
       "\n",
       "    .dataframe thead th {\n",
       "        text-align: right;\n",
       "    }\n",
       "</style>\n",
       "<table border=\"1\" class=\"dataframe\">\n",
       "  <thead>\n",
       "    <tr style=\"text-align: right;\">\n",
       "      <th></th>\n",
       "      <th>CountryName</th>\n",
       "      <th>CountryCode</th>\n",
       "      <th>IndicatorName</th>\n",
       "      <th>IndicatorCode</th>\n",
       "      <th>Year</th>\n",
       "      <th>Value</th>\n",
       "    </tr>\n",
       "  </thead>\n",
       "  <tbody>\n",
       "    <tr>\n",
       "      <th>11659</th>\n",
       "      <td>India</td>\n",
       "      <td>IND</td>\n",
       "      <td>Hospital beds (per 1,000 people)</td>\n",
       "      <td>SH.MED.BEDS.ZS</td>\n",
       "      <td>1960</td>\n",
       "      <td>0.458987</td>\n",
       "    </tr>\n",
       "    <tr>\n",
       "      <th>329121</th>\n",
       "      <td>India</td>\n",
       "      <td>IND</td>\n",
       "      <td>Hospital beds (per 1,000 people)</td>\n",
       "      <td>SH.MED.BEDS.ZS</td>\n",
       "      <td>1970</td>\n",
       "      <td>0.604500</td>\n",
       "    </tr>\n",
       "    <tr>\n",
       "      <th>674155</th>\n",
       "      <td>India</td>\n",
       "      <td>IND</td>\n",
       "      <td>Hospital beds (per 1,000 people)</td>\n",
       "      <td>SH.MED.BEDS.ZS</td>\n",
       "      <td>1975</td>\n",
       "      <td>0.588200</td>\n",
       "    </tr>\n",
       "    <tr>\n",
       "      <th>1051576</th>\n",
       "      <td>India</td>\n",
       "      <td>IND</td>\n",
       "      <td>Hospital beds (per 1,000 people)</td>\n",
       "      <td>SH.MED.BEDS.ZS</td>\n",
       "      <td>1980</td>\n",
       "      <td>0.769700</td>\n",
       "    </tr>\n",
       "    <tr>\n",
       "      <th>1134666</th>\n",
       "      <td>India</td>\n",
       "      <td>IND</td>\n",
       "      <td>Hospital beds (per 1,000 people)</td>\n",
       "      <td>SH.MED.BEDS.ZS</td>\n",
       "      <td>1981</td>\n",
       "      <td>0.769400</td>\n",
       "    </tr>\n",
       "    <tr>\n",
       "      <th>1476641</th>\n",
       "      <td>India</td>\n",
       "      <td>IND</td>\n",
       "      <td>Hospital beds (per 1,000 people)</td>\n",
       "      <td>SH.MED.BEDS.ZS</td>\n",
       "      <td>1985</td>\n",
       "      <td>0.769200</td>\n",
       "    </tr>\n",
       "    <tr>\n",
       "      <th>1653092</th>\n",
       "      <td>India</td>\n",
       "      <td>IND</td>\n",
       "      <td>Hospital beds (per 1,000 people)</td>\n",
       "      <td>SH.MED.BEDS.ZS</td>\n",
       "      <td>1987</td>\n",
       "      <td>0.718200</td>\n",
       "    </tr>\n",
       "    <tr>\n",
       "      <th>2054964</th>\n",
       "      <td>India</td>\n",
       "      <td>IND</td>\n",
       "      <td>Hospital beds (per 1,000 people)</td>\n",
       "      <td>SH.MED.BEDS.ZS</td>\n",
       "      <td>1991</td>\n",
       "      <td>0.787000</td>\n",
       "    </tr>\n",
       "    <tr>\n",
       "      <th>3550767</th>\n",
       "      <td>India</td>\n",
       "      <td>IND</td>\n",
       "      <td>Hospital beds (per 1,000 people)</td>\n",
       "      <td>SH.MED.BEDS.ZS</td>\n",
       "      <td>2002</td>\n",
       "      <td>0.690000</td>\n",
       "    </tr>\n",
       "    <tr>\n",
       "      <th>3705007</th>\n",
       "      <td>India</td>\n",
       "      <td>IND</td>\n",
       "      <td>Hospital beds (per 1,000 people)</td>\n",
       "      <td>SH.MED.BEDS.ZS</td>\n",
       "      <td>2003</td>\n",
       "      <td>0.900000</td>\n",
       "    </tr>\n",
       "    <tr>\n",
       "      <th>4029885</th>\n",
       "      <td>India</td>\n",
       "      <td>IND</td>\n",
       "      <td>Hospital beds (per 1,000 people)</td>\n",
       "      <td>SH.MED.BEDS.ZS</td>\n",
       "      <td>2005</td>\n",
       "      <td>0.900000</td>\n",
       "    </tr>\n",
       "    <tr>\n",
       "      <th>5111339</th>\n",
       "      <td>India</td>\n",
       "      <td>IND</td>\n",
       "      <td>Hospital beds (per 1,000 people)</td>\n",
       "      <td>SH.MED.BEDS.ZS</td>\n",
       "      <td>2011</td>\n",
       "      <td>0.700000</td>\n",
       "    </tr>\n",
       "  </tbody>\n",
       "</table>\n",
       "</div>"
      ],
      "text/plain": [
       "        CountryName CountryCode                     IndicatorName   IndicatorCode  Year     Value\n",
       "11659         India         IND  Hospital beds (per 1,000 people)  SH.MED.BEDS.ZS  1960  0.458987\n",
       "329121        India         IND  Hospital beds (per 1,000 people)  SH.MED.BEDS.ZS  1970  0.604500\n",
       "674155        India         IND  Hospital beds (per 1,000 people)  SH.MED.BEDS.ZS  1975  0.588200\n",
       "1051576       India         IND  Hospital beds (per 1,000 people)  SH.MED.BEDS.ZS  1980  0.769700\n",
       "1134666       India         IND  Hospital beds (per 1,000 people)  SH.MED.BEDS.ZS  1981  0.769400\n",
       "1476641       India         IND  Hospital beds (per 1,000 people)  SH.MED.BEDS.ZS  1985  0.769200\n",
       "1653092       India         IND  Hospital beds (per 1,000 people)  SH.MED.BEDS.ZS  1987  0.718200\n",
       "2054964       India         IND  Hospital beds (per 1,000 people)  SH.MED.BEDS.ZS  1991  0.787000\n",
       "3550767       India         IND  Hospital beds (per 1,000 people)  SH.MED.BEDS.ZS  2002  0.690000\n",
       "3705007       India         IND  Hospital beds (per 1,000 people)  SH.MED.BEDS.ZS  2003  0.900000\n",
       "4029885       India         IND  Hospital beds (per 1,000 people)  SH.MED.BEDS.ZS  2005  0.900000\n",
       "5111339       India         IND  Hospital beds (per 1,000 people)  SH.MED.BEDS.ZS  2011  0.700000"
      ]
     },
     "execution_count": 30,
     "metadata": {},
     "output_type": "execute_result"
    }
   ],
   "source": [
    "IndHos = data[data['CountryCode'].str.contains('IND') & data['IndicatorName'].str.contains('Hospital')]\n",
    "IndHos"
   ]
  },
  {
   "cell_type": "code",
   "execution_count": 31,
   "metadata": {},
   "outputs": [
    {
     "data": {
      "text/plain": [
       "0.7212655749971214"
      ]
     },
     "execution_count": 31,
     "metadata": {},
     "output_type": "execute_result"
    }
   ],
   "source": [
    "IndHos['Value'].mean()"
   ]
  },
  {
   "cell_type": "code",
   "execution_count": 63,
   "metadata": {},
   "outputs": [
    {
     "name": "stdout",
     "output_type": "stream",
     "text": [
      "17.923139907836223 MCO\n"
     ]
    }
   ],
   "source": [
    "# Find Country With Max average 'SH.MED.BEDS.ZS' values over years\n",
    "MaxMean = 0\n",
    "MaxCountry = ''\n",
    "\n",
    "CountryCodes = data['CountryCode'].unique().tolist()\n",
    "\n",
    "for i in CountryCodes:\n",
    "    Beds = data[data['CountryCode'].str.contains(i)]\n",
    "    \n",
    "    if Beds['IndicatorName'].str.contains('Hospital').any():\n",
    "        mean = Beds[Beds['IndicatorName'].str.contains('Hospital')]['Value'].mean()\n",
    "        if mean > MaxMean:\n",
    "            MaxMean = mean\n",
    "            MaxCountry = i\n",
    "        else:\n",
    "            pass\n",
    "    else:\n",
    "        pass\n",
    "    \n",
    "print(MaxMean, MaxCountry)"
   ]
  },
  {
   "cell_type": "code",
   "execution_count": 64,
   "metadata": {},
   "outputs": [
    {
     "name": "stdout",
     "output_type": "stream",
     "text": [
      "0.2977990905957085 NER\n"
     ]
    }
   ],
   "source": [
    "# Find Country With Mix average 'SH.MED.BEDS.ZS' values over years\n",
    "MinMean = 100\n",
    "MinCountry = ''\n",
    "\n",
    "CountryCodes = data['CountryCode'].unique().tolist()\n",
    "\n",
    "for i in CountryCodes:\n",
    "    Beds = data[data['CountryCode'].str.contains(i)]\n",
    "    \n",
    "    if Beds['IndicatorName'].str.contains('Hospital').any():\n",
    "        mean = Beds[Beds['IndicatorName'].str.contains('Hospital')]['Value'].mean()\n",
    "        if mean < MinMean:\n",
    "            MinMean = mean\n",
    "            MinCountry = i\n",
    "        else:\n",
    "            pass\n",
    "    else:\n",
    "        pass\n",
    "    \n",
    "print(MinMean, MinCountry)"
   ]
  },
  {
   "cell_type": "code",
   "execution_count": 67,
   "metadata": {},
   "outputs": [
    {
     "data": {
      "text/html": [
       "<div>\n",
       "<style scoped>\n",
       "    .dataframe tbody tr th:only-of-type {\n",
       "        vertical-align: middle;\n",
       "    }\n",
       "\n",
       "    .dataframe tbody tr th {\n",
       "        vertical-align: top;\n",
       "    }\n",
       "\n",
       "    .dataframe thead th {\n",
       "        text-align: right;\n",
       "    }\n",
       "</style>\n",
       "<table border=\"1\" class=\"dataframe\">\n",
       "  <thead>\n",
       "    <tr style=\"text-align: right;\">\n",
       "      <th></th>\n",
       "      <th>CountryName</th>\n",
       "      <th>CountryCode</th>\n",
       "      <th>IndicatorName</th>\n",
       "      <th>IndicatorCode</th>\n",
       "      <th>Year</th>\n",
       "      <th>Value</th>\n",
       "    </tr>\n",
       "  </thead>\n",
       "  <tbody>\n",
       "    <tr>\n",
       "      <th>16566</th>\n",
       "      <td>Niger</td>\n",
       "      <td>NER</td>\n",
       "      <td>Hospital beds (per 1,000 people)</td>\n",
       "      <td>SH.MED.BEDS.ZS</td>\n",
       "      <td>1960</td>\n",
       "      <td>0.409491</td>\n",
       "    </tr>\n",
       "    <tr>\n",
       "      <th>342549</th>\n",
       "      <td>Niger</td>\n",
       "      <td>NER</td>\n",
       "      <td>Hospital beds (per 1,000 people)</td>\n",
       "      <td>SH.MED.BEDS.ZS</td>\n",
       "      <td>1970</td>\n",
       "      <td>0.494700</td>\n",
       "    </tr>\n",
       "    <tr>\n",
       "      <th>689811</th>\n",
       "      <td>Niger</td>\n",
       "      <td>NER</td>\n",
       "      <td>Hospital beds (per 1,000 people)</td>\n",
       "      <td>SH.MED.BEDS.ZS</td>\n",
       "      <td>1975</td>\n",
       "      <td>0.495300</td>\n",
       "    </tr>\n",
       "    <tr>\n",
       "      <th>1672287</th>\n",
       "      <td>Niger</td>\n",
       "      <td>NER</td>\n",
       "      <td>Hospital beds (per 1,000 people)</td>\n",
       "      <td>SH.MED.BEDS.ZS</td>\n",
       "      <td>1987</td>\n",
       "      <td>0.543900</td>\n",
       "    </tr>\n",
       "    <tr>\n",
       "      <th>2448008</th>\n",
       "      <td>Niger</td>\n",
       "      <td>NER</td>\n",
       "      <td>Hospital beds (per 1,000 people)</td>\n",
       "      <td>SH.MED.BEDS.ZS</td>\n",
       "      <td>1994</td>\n",
       "      <td>0.194600</td>\n",
       "    </tr>\n",
       "  </tbody>\n",
       "</table>\n",
       "</div>"
      ],
      "text/plain": [
       "        CountryName CountryCode                     IndicatorName   IndicatorCode  Year     Value\n",
       "16566         Niger         NER  Hospital beds (per 1,000 people)  SH.MED.BEDS.ZS  1960  0.409491\n",
       "342549        Niger         NER  Hospital beds (per 1,000 people)  SH.MED.BEDS.ZS  1970  0.494700\n",
       "689811        Niger         NER  Hospital beds (per 1,000 people)  SH.MED.BEDS.ZS  1975  0.495300\n",
       "1672287       Niger         NER  Hospital beds (per 1,000 people)  SH.MED.BEDS.ZS  1987  0.543900\n",
       "2448008       Niger         NER  Hospital beds (per 1,000 people)  SH.MED.BEDS.ZS  1994  0.194600"
      ]
     },
     "execution_count": 67,
     "metadata": {},
     "output_type": "execute_result"
    }
   ],
   "source": [
    "check1 = data[data['IndicatorName'].str.contains('Hospital') & data['CountryCode'].str.contains(MaxCountry)]\n",
    "check2 = data[data['IndicatorName'].str.contains('Hospital') & data['CountryCode'].str.contains(MinCountry)]\n",
    "check2.head()"
   ]
  },
  {
   "cell_type": "code",
   "execution_count": 71,
   "metadata": {},
   "outputs": [
    {
     "data": {
      "image/png": "[encoded data removed]",
      "text/plain": [
       "<Figure size 432x288 with 1 Axes>"
      ]
     },
     "metadata": {
      "needs_background": "light"
     },
     "output_type": "display_data"
    }
   ],
   "source": [
    "fig = plt.figure()\n",
    "\n",
    "year = check1['Year'].values\n",
    "value = check1['Value'].values\n",
    "\n",
    "year2 = IndHos['Year'].values\n",
    "value2 = IndHos['Value'].values\n",
    "\n",
    "year3 = check2['Year'].values\n",
    "value3 = check2['Value'].values\n",
    "\n",
    "ax1 = plt.subplot2grid((1, 1), (0, 0), rowspan=1, colspan=1)\n",
    "ax1.plot(year, value, label=MaxCountry)\n",
    "ax1.plot(year2, value2, label='IND')\n",
    "ax1.plot(year3, value3, label=MinCountry)\n",
    "\n",
    "plt.xlabel('Year')\n",
    "plt.ylabel('Value')\n",
    "plt.title('Hospital Beds')\n",
    "\n",
    "plt.legend()\n",
    "plt.show()"
   ]
  },
  {
   "cell_type": "code",
   "execution_count": 70,
   "metadata": {},
   "outputs": [
    {
     "data": {
      "image/png": "[encoded data removed]",
      "text/plain": [
       "<Figure size 432x288 with 1 Axes>"
      ]
     },
     "metadata": {
      "needs_background": "light"
     },
     "output_type": "display_data"
    }
   ],
   "source": [
    "fig = plt.figure()\n",
    "\n",
    "# year = check1['Year'].values\n",
    "# value = check1['Value'].values\n",
    "\n",
    "# year2 = IndHos['Year'].values\n",
    "# value2 = IndHos['Value'].values\n",
    "\n",
    "year3 = check2['Year'].values\n",
    "value3 = check2['Value'].values\n",
    "ax1 = plt.subplot2grid((1, 1), (0, 0), rowspan=1, colspan=1)\n",
    "# ax1.plot(year, value, label=MaxCountry)\n",
    "# ax1.plot(year2, value2, label='IND')\n",
    "ax1.plot(year3, value3, label=MinCountry)\n",
    "\n",
    "plt.xlabel('Year')\n",
    "plt.ylabel('Value')\n",
    "plt.title('Hospital Beds')\n",
    "\n",
    "plt.legend()\n",
    "plt.show()"
   ]
  },
  {
   "cell_type": "markdown",
   "metadata": {},
   "source": [
    "# "
   ]
  }
 ],
 "metadata": {
  "kernelspec": {
   "display_name": "Python 3",
   "language": "python",
   "name": "python3"
  },
  "language_info": {
   "codemirror_mode": {
    "name": "ipython",
    "version": 3
   },
   "file_extension": ".py",
   "mimetype": "text/x-python",
   "name": "python",
   "nbconvert_exporter": "python",
   "pygments_lexer": "ipython3",
   "version": "3.6.7"
  }
 },
 "nbformat": 4,
 "nbformat_minor": 2
}
